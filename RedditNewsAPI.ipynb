{
 "cells": [
  {
   "cell_type": "code",
   "execution_count": 7,
   "id": "75732fa4-e517-4436-8fb3-3b08bbee25c4",
   "metadata": {},
   "outputs": [
    {
     "name": "stdout",
     "output_type": "stream",
     "text": [
      "Top posts have been saved to output.json.\n"
     ]
    }
   ],
   "source": [
    "import praw\n",
    "import json\n",
    "from datetime import datetime, timedelta\n",
    "\n",
    "reddit = praw.Reddit(client_id='Your ID Here',\n",
    "                     client_secret='Your Secret Here',\n",
    "                     user_agent='Descriptive Name Here!')\n",
    "\n",
    "\n",
    "one_year_ago = datetime.utcnow() - timedelta(days=365)\n",
    "timestamp_one_year_ago = one_year_ago.timestamp()\n",
    "\n",
    "# Fetch the top 5 most upvoted posts from the 'news' subreddit within the last year\n",
    "subreddit = reddit.subreddit('news')\n",
    "top_posts = []\n",
    "\n",
    "for post in subreddit.top(time_filter='year', limit=5):\n",
    "    # Check if the post was submitted within the last year\n",
    "    if post.created_utc >= timestamp_one_year_ago:\n",
    "        top_posts.append({\n",
    "            'title': post.title,\n",
    "            'url': post.url,\n",
    "            'utc_timestamp': post.created_utc\n",
    "        })\n",
    "\n",
    "# Saving the posts to output.json\n",
    "with open('output.json', 'w') as file:\n",
    "    json.dump(top_posts, file, indent=4)\n"
   ]
  },
  {
   "cell_type": "code",
   "execution_count": null,
   "id": "2fd2aadc-a4a8-4828-962d-cf2a2cf77724",
   "metadata": {},
   "outputs": [],
   "source": []
  }
 ],
 "metadata": {
  "kernelspec": {
   "display_name": "Python 3 (ipykernel)",
   "language": "python",
   "name": "python3"
  },
  "language_info": {
   "codemirror_mode": {
    "name": "ipython",
    "version": 3
   },
   "file_extension": ".py",
   "mimetype": "text/x-python",
   "name": "python",
   "nbconvert_exporter": "python",
   "pygments_lexer": "ipython3",
   "version": "3.9.20"
  }
 },
 "nbformat": 4,
 "nbformat_minor": 5
}
